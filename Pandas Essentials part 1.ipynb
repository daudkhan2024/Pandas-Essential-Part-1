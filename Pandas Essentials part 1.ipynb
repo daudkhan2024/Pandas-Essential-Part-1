{
 "cells": [
  {
   "cell_type": "code",
   "execution_count": 1,
   "id": "a5bd179c",
   "metadata": {},
   "outputs": [],
   "source": [
    "import pandas as pd"
   ]
  },
  {
   "cell_type": "code",
   "execution_count": 2,
   "id": "26b904a9",
   "metadata": {},
   "outputs": [],
   "source": [
    "l1=([1,2,34,5,6,78,4])"
   ]
  },
  {
   "cell_type": "code",
   "execution_count": 3,
   "id": "8698016f",
   "metadata": {},
   "outputs": [],
   "source": [
    "s=pd.Series(l1)"
   ]
  },
  {
   "cell_type": "code",
   "execution_count": 4,
   "id": "1dd93dc6",
   "metadata": {},
   "outputs": [
    {
     "data": {
      "text/plain": [
       "0     1\n",
       "1     2\n",
       "2    34\n",
       "3     5\n",
       "4     6\n",
       "5    78\n",
       "6     4\n",
       "dtype: int64"
      ]
     },
     "execution_count": 4,
     "metadata": {},
     "output_type": "execute_result"
    }
   ],
   "source": [
    "s\n",
    "#it will show index column and s colmn"
   ]
  },
  {
   "cell_type": "code",
   "execution_count": 5,
   "id": "c15db537",
   "metadata": {},
   "outputs": [],
   "source": [
    "s1=pd.Series([2,3,5,6,7,435])"
   ]
  },
  {
   "cell_type": "code",
   "execution_count": 6,
   "id": "772e2256",
   "metadata": {},
   "outputs": [
    {
     "data": {
      "text/plain": [
       "0      2\n",
       "1      3\n",
       "2      5\n",
       "3      6\n",
       "4      7\n",
       "5    435\n",
       "dtype: int64"
      ]
     },
     "execution_count": 6,
     "metadata": {},
     "output_type": "execute_result"
    }
   ],
   "source": [
    "s1"
   ]
  },
  {
   "cell_type": "markdown",
   "id": "3eb61562",
   "metadata": {},
   "source": [
    " + Indexing"
   ]
  },
  {
   "cell_type": "code",
   "execution_count": 7,
   "id": "de4f8a51",
   "metadata": {},
   "outputs": [],
   "source": [
    "S1=pd.Series([1,2,3,4,5],index=['a','b','c','d','e'])"
   ]
  },
  {
   "cell_type": "code",
   "execution_count": 8,
   "id": "ad1c0d9a",
   "metadata": {},
   "outputs": [
    {
     "data": {
      "text/plain": [
       "a    1\n",
       "b    2\n",
       "c    3\n",
       "d    4\n",
       "e    5\n",
       "dtype: int64"
      ]
     },
     "execution_count": 8,
     "metadata": {},
     "output_type": "execute_result"
    }
   ],
   "source": [
    "S1\n",
    "# it give index to the elements"
   ]
  },
  {
   "cell_type": "code",
   "execution_count": 9,
   "id": "b4032f5e",
   "metadata": {},
   "outputs": [],
   "source": [
    "S1=pd.Series([1,2,3,4,5],index=['sparta','ahmad','khan','usman','nikel'])"
   ]
  },
  {
   "cell_type": "code",
   "execution_count": 10,
   "id": "6e3b1d4a",
   "metadata": {},
   "outputs": [
    {
     "data": {
      "text/plain": [
       "sparta    1\n",
       "ahmad     2\n",
       "khan      3\n",
       "usman     4\n",
       "nikel     5\n",
       "dtype: int64"
      ]
     },
     "execution_count": 10,
     "metadata": {},
     "output_type": "execute_result"
    }
   ],
   "source": [
    "S1"
   ]
  },
  {
   "cell_type": "markdown",
   "id": "fc0db468",
   "metadata": {},
   "source": [
    "### Seires of Dictionary"
   ]
  },
  {
   "cell_type": "code",
   "execution_count": 11,
   "id": "c6d11093",
   "metadata": {},
   "outputs": [],
   "source": [
    "s1=pd.Series({'khan':10,'ahmad':34})"
   ]
  },
  {
   "cell_type": "code",
   "execution_count": 12,
   "id": "216e576d",
   "metadata": {},
   "outputs": [
    {
     "data": {
      "text/plain": [
       "khan     10\n",
       "ahmad    34\n",
       "dtype: int64"
      ]
     },
     "execution_count": 12,
     "metadata": {},
     "output_type": "execute_result"
    }
   ],
   "source": [
    "s1"
   ]
  },
  {
   "cell_type": "markdown",
   "id": "95601bf6",
   "metadata": {},
   "source": [
    "+ indexing values in Series"
   ]
  },
  {
   "cell_type": "code",
   "execution_count": 13,
   "id": "fbc08aa6",
   "metadata": {},
   "outputs": [],
   "source": [
    "s2=pd.Series({'a':100,'b':200})"
   ]
  },
  {
   "cell_type": "code",
   "execution_count": 14,
   "id": "92fc4f53",
   "metadata": {},
   "outputs": [
    {
     "data": {
      "text/plain": [
       "a    100\n",
       "b    200\n",
       "dtype: int64"
      ]
     },
     "execution_count": 14,
     "metadata": {},
     "output_type": "execute_result"
    }
   ],
   "source": [
    "s2"
   ]
  },
  {
   "cell_type": "code",
   "execution_count": 15,
   "id": "9140f44f",
   "metadata": {},
   "outputs": [],
   "source": [
    "s2=pd.Series({'a':100,'b':200,'c':2},index=['d','c'])"
   ]
  },
  {
   "cell_type": "code",
   "execution_count": 16,
   "id": "6ba41463",
   "metadata": {},
   "outputs": [
    {
     "data": {
      "text/plain": [
       "d    NaN\n",
       "c    2.0\n",
       "dtype: float64"
      ]
     },
     "execution_count": 16,
     "metadata": {},
     "output_type": "execute_result"
    }
   ],
   "source": [
    "s2 # it will show only d & c because a and b is not there"
   ]
  },
  {
   "cell_type": "markdown",
   "id": "251ea384",
   "metadata": {},
   "source": [
    "+ Extracting Single Element"
   ]
  },
  {
   "cell_type": "code",
   "execution_count": 17,
   "id": "857a0cdd",
   "metadata": {},
   "outputs": [],
   "source": [
    "a1=pd.Series([2,3,4,5,6,7])"
   ]
  },
  {
   "cell_type": "code",
   "execution_count": 18,
   "id": "3322fbbe",
   "metadata": {},
   "outputs": [
    {
     "data": {
      "text/plain": [
       "3"
      ]
     },
     "execution_count": 18,
     "metadata": {},
     "output_type": "execute_result"
    }
   ],
   "source": [
    "a1[1]"
   ]
  },
  {
   "cell_type": "code",
   "execution_count": 19,
   "id": "1678011c",
   "metadata": {},
   "outputs": [
    {
     "data": {
      "text/plain": [
       "6"
      ]
     },
     "execution_count": 19,
     "metadata": {},
     "output_type": "execute_result"
    }
   ],
   "source": [
    "a1[4]"
   ]
  },
  {
   "cell_type": "markdown",
   "id": "7a3c7c69",
   "metadata": {},
   "source": [
    "+ Extracting Sequence of Elements"
   ]
  },
  {
   "cell_type": "code",
   "execution_count": 20,
   "id": "2f979103",
   "metadata": {},
   "outputs": [
    {
     "data": {
      "text/plain": [
       "1    3\n",
       "2    4\n",
       "dtype: int64"
      ]
     },
     "execution_count": 20,
     "metadata": {},
     "output_type": "execute_result"
    }
   ],
   "source": [
    "a1[1:3]"
   ]
  },
  {
   "cell_type": "code",
   "execution_count": 21,
   "id": "56069840",
   "metadata": {},
   "outputs": [
    {
     "data": {
      "text/plain": [
       "0    2\n",
       "1    3\n",
       "2    4\n",
       "3    5\n",
       "4    6\n",
       "dtype: int64"
      ]
     },
     "execution_count": 21,
     "metadata": {},
     "output_type": "execute_result"
    }
   ],
   "source": [
    "a1[:-1]"
   ]
  },
  {
   "cell_type": "code",
   "execution_count": 22,
   "id": "b16686d5",
   "metadata": {},
   "outputs": [
    {
     "data": {
      "text/plain": [
       "7"
      ]
     },
     "execution_count": 22,
     "metadata": {},
     "output_type": "execute_result"
    }
   ],
   "source": [
    "a1[5]"
   ]
  },
  {
   "cell_type": "code",
   "execution_count": 23,
   "id": "9c7b2f85",
   "metadata": {},
   "outputs": [
    {
     "data": {
      "text/plain": [
       "3    5\n",
       "4    6\n",
       "5    7\n",
       "dtype: int64"
      ]
     },
     "execution_count": 23,
     "metadata": {},
     "output_type": "execute_result"
    }
   ],
   "source": [
    "a1[-3:]"
   ]
  },
  {
   "cell_type": "code",
   "execution_count": 24,
   "id": "dbdbcc99",
   "metadata": {},
   "outputs": [
    {
     "data": {
      "text/plain": [
       "0    4\n",
       "1    5\n",
       "2    6\n",
       "3    7\n",
       "4    8\n",
       "5    9\n",
       "dtype: int64"
      ]
     },
     "execution_count": 24,
     "metadata": {},
     "output_type": "execute_result"
    }
   ],
   "source": [
    "a1+2"
   ]
  },
  {
   "cell_type": "code",
   "execution_count": 25,
   "id": "a1b14b01",
   "metadata": {},
   "outputs": [],
   "source": [
    "b1=pd.Series([1,2,3,4,5,6])"
   ]
  },
  {
   "cell_type": "code",
   "execution_count": 26,
   "id": "1ade7f95",
   "metadata": {},
   "outputs": [],
   "source": [
    "b2=pd.Series([5,6,7])"
   ]
  },
  {
   "cell_type": "code",
   "execution_count": 27,
   "id": "d416fb6d",
   "metadata": {},
   "outputs": [
    {
     "data": {
      "text/plain": [
       "0     6.0\n",
       "1     8.0\n",
       "2    10.0\n",
       "3     NaN\n",
       "4     NaN\n",
       "5     NaN\n",
       "dtype: float64"
      ]
     },
     "execution_count": 27,
     "metadata": {},
     "output_type": "execute_result"
    }
   ],
   "source": [
    "b1+b2\n",
    "# Adding two Series"
   ]
  },
  {
   "cell_type": "code",
   "execution_count": 28,
   "id": "4a69b44d",
   "metadata": {},
   "outputs": [
    {
     "data": {
      "text/plain": [
       "0    4\n",
       "1    5\n",
       "2    6\n",
       "3    7\n",
       "4    8\n",
       "5    9\n",
       "dtype: int64"
      ]
     },
     "execution_count": 28,
     "metadata": {},
     "output_type": "execute_result"
    }
   ],
   "source": [
    "b1+3 \n",
    "# Adding a scalar value to Series Elements"
   ]
  },
  {
   "cell_type": "code",
   "execution_count": 29,
   "id": "53e57d69",
   "metadata": {},
   "outputs": [],
   "source": [
    "c1=pd.Series([1,2,3,4,5,6])"
   ]
  },
  {
   "cell_type": "code",
   "execution_count": 30,
   "id": "619eea43",
   "metadata": {},
   "outputs": [],
   "source": [
    "c2=pd.Series([5,6,7,8,9,8])"
   ]
  },
  {
   "cell_type": "code",
   "execution_count": 31,
   "id": "cd937a80",
   "metadata": {},
   "outputs": [
    {
     "data": {
      "text/plain": [
       "0     6\n",
       "1     8\n",
       "2    10\n",
       "3    12\n",
       "4    14\n",
       "5    14\n",
       "dtype: int64"
      ]
     },
     "execution_count": 31,
     "metadata": {},
     "output_type": "execute_result"
    }
   ],
   "source": [
    "c1+c2"
   ]
  },
  {
   "cell_type": "code",
   "execution_count": 32,
   "id": "feb73dd6",
   "metadata": {},
   "outputs": [
    {
     "data": {
      "text/plain": [
       "0   -4\n",
       "1   -4\n",
       "2   -4\n",
       "3   -4\n",
       "4   -4\n",
       "5   -2\n",
       "dtype: int64"
      ]
     },
     "execution_count": 32,
     "metadata": {},
     "output_type": "execute_result"
    }
   ],
   "source": [
    "c1-c2\n",
    "# Subtracting two Series"
   ]
  },
  {
   "cell_type": "code",
   "execution_count": 33,
   "id": "1349722c",
   "metadata": {},
   "outputs": [
    {
     "data": {
      "text/plain": [
       "0     3\n",
       "1     6\n",
       "2     9\n",
       "3    12\n",
       "4    15\n",
       "5    18\n",
       "dtype: int64"
      ]
     },
     "execution_count": 33,
     "metadata": {},
     "output_type": "execute_result"
    }
   ],
   "source": [
    "c1*3\n",
    "# Multiply with 3"
   ]
  }
 ],
 "metadata": {
  "kernelspec": {
   "display_name": "Python 3 (ipykernel)",
   "language": "python",
   "name": "python3"
  },
  "language_info": {
   "codemirror_mode": {
    "name": "ipython",
    "version": 3
   },
   "file_extension": ".py",
   "mimetype": "text/x-python",
   "name": "python",
   "nbconvert_exporter": "python",
   "pygments_lexer": "ipython3",
   "version": "3.8.12"
  }
 },
 "nbformat": 4,
 "nbformat_minor": 5
}
